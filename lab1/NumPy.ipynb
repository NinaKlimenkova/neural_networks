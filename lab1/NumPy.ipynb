{
 "cells": [
  {
   "cell_type": "code",
   "execution_count": 7,
   "metadata": {},
   "outputs": [],
   "source": [
    "import numpy as np\n",
    "import random\n",
    "from random import random\n",
    "\n"
   ]
  },
  {
   "cell_type": "markdown",
   "metadata": {},
   "source": [
    "Scalar"
   ]
  },
  {
   "cell_type": "code",
   "execution_count": 24,
   "metadata": {},
   "outputs": [
    {
     "name": "stdout",
     "output_type": "stream",
     "text": [
      "0.28007326004067146\n",
      "12.3\n",
      "The scalar was deleted\n"
     ]
    }
   ],
   "source": [
    "#create\n",
    "scalar=random() \n",
    "#read\n",
    "print(scalar)\n",
    "#update\n",
    "scalar= 12.3\n",
    "print(scalar)\n",
    "#delate\n",
    "del scalar\n",
    "print(\"The scalar was deleted\")"
   ]
  },
  {
   "cell_type": "markdown",
   "metadata": {},
   "source": [
    "Vector"
   ]
  },
  {
   "cell_type": "code",
   "execution_count": 30,
   "metadata": {},
   "outputs": [
    {
     "name": "stdout",
     "output_type": "stream",
     "text": [
      "The vector is\n",
      " [ 1  3  5  7  9 11 13 15 17 19]\n",
      "Updated vector -  [ 1  3  5  7  9 11 13 15 17 19 27]\n",
      "Delete lust number\n",
      " [ 1  3  5  7  9 11 13 15 17 19]\n",
      "The vector was deleted\n"
     ]
    }
   ],
   "source": [
    "#create\n",
    "v = np.arange(1,20,2)\n",
    "#read\n",
    "print(\"The vector is\\n\",v)\n",
    "#update\n",
    "v = np.append(v, 27)\n",
    "print(\"Updated vector - \",v)\n",
    "#delate\n",
    "v = np.delete(v, len(v)-1)\n",
    "print(\"Delete lust number\\n\",v)\n",
    "del v\n",
    "print(\"The vector was deleted\")"
   ]
  },
  {
   "cell_type": "markdown",
   "metadata": {},
   "source": [
    "Matrix"
   ]
  },
  {
   "cell_type": "code",
   "execution_count": 36,
   "metadata": {},
   "outputs": [
    {
     "name": "stdout",
     "output_type": "stream",
     "text": [
      "The matrix:\n",
      " [[1 7 3]\n",
      " [4 9 6]]\n",
      "New matrix:\n",
      " [[ 2 14  6]\n",
      " [ 8 18 12]]\n",
      "The matrix was deleted\n"
     ]
    }
   ],
   "source": [
    "#create\n",
    "A = np.matrix('1 7 3; 4 9 6')\n",
    "#read\n",
    "print(\"The matrix:\\n\",A)\n",
    "#update\n",
    "A_new = A*2\n",
    "print(\"New matrix:\\n\",A_new)\n",
    "#delate\n",
    "del A_new\n",
    "print(\"The matrix was deleted\")\n",
    "\n",
    "\n"
   ]
  }
 ],
 "metadata": {
  "interpreter": {
   "hash": "941c21b796b6c797b5851963dca9db868d63415de05ec53dd944d1ff3c7e1546"
  },
  "kernelspec": {
   "display_name": "Python 3.8.3 64-bit ('base': conda)",
   "name": "python3"
  },
  "language_info": {
   "codemirror_mode": {
    "name": "ipython",
    "version": 3
   },
   "file_extension": ".py",
   "mimetype": "text/x-python",
   "name": "python",
   "nbconvert_exporter": "python",
   "pygments_lexer": "ipython3",
   "version": "3.8.3"
  },
  "orig_nbformat": 4
 },
 "nbformat": 4,
 "nbformat_minor": 2
}
