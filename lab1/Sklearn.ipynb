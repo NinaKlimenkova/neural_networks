{
 "cells": [
  {
   "cell_type": "code",
   "execution_count": 1,
   "metadata": {},
   "outputs": [],
   "source": [
    "import numpy as np \n",
    "import pandas as pd \n",
    "import matplotlib.pyplot as plt\n",
    "import os\n",
    "import seaborn as sns\n",
    "from sklearn import metrics\n",
    "from sklearn.model_selection import train_test_split\n",
    "from sklearn.neighbors import KNeighborsClassifier\n",
    "from sklearn.neighbors import KNeighborsClassifier"
   ]
  },
  {
   "cell_type": "markdown",
   "metadata": {},
   "source": [
    "Classification"
   ]
  },
  {
   "cell_type": "code",
   "execution_count": 2,
   "metadata": {},
   "outputs": [],
   "source": [
    "iris = pd.read_csv(r'iris.csv', sep = ',')"
   ]
  },
  {
   "cell_type": "markdown",
   "metadata": {},
   "source": [
    "Data exploration"
   ]
  },
  {
   "cell_type": "code",
   "execution_count": 3,
   "metadata": {},
   "outputs": [
    {
     "data": {
      "text/html": [
       "<div>\n",
       "<style scoped>\n",
       "    .dataframe tbody tr th:only-of-type {\n",
       "        vertical-align: middle;\n",
       "    }\n",
       "\n",
       "    .dataframe tbody tr th {\n",
       "        vertical-align: top;\n",
       "    }\n",
       "\n",
       "    .dataframe thead th {\n",
       "        text-align: right;\n",
       "    }\n",
       "</style>\n",
       "<table border=\"1\" class=\"dataframe\">\n",
       "  <thead>\n",
       "    <tr style=\"text-align: right;\">\n",
       "      <th></th>\n",
       "      <th>sepal.length</th>\n",
       "      <th>sepal.width</th>\n",
       "      <th>petal.length</th>\n",
       "      <th>petal.width</th>\n",
       "      <th>variety</th>\n",
       "    </tr>\n",
       "  </thead>\n",
       "  <tbody>\n",
       "    <tr>\n",
       "      <th>0</th>\n",
       "      <td>5.1</td>\n",
       "      <td>3.5</td>\n",
       "      <td>1.4</td>\n",
       "      <td>0.2</td>\n",
       "      <td>Setosa</td>\n",
       "    </tr>\n",
       "    <tr>\n",
       "      <th>1</th>\n",
       "      <td>4.9</td>\n",
       "      <td>3.0</td>\n",
       "      <td>1.4</td>\n",
       "      <td>0.2</td>\n",
       "      <td>Setosa</td>\n",
       "    </tr>\n",
       "    <tr>\n",
       "      <th>2</th>\n",
       "      <td>4.7</td>\n",
       "      <td>3.2</td>\n",
       "      <td>1.3</td>\n",
       "      <td>0.2</td>\n",
       "      <td>Setosa</td>\n",
       "    </tr>\n",
       "    <tr>\n",
       "      <th>3</th>\n",
       "      <td>4.6</td>\n",
       "      <td>3.1</td>\n",
       "      <td>1.5</td>\n",
       "      <td>0.2</td>\n",
       "      <td>Setosa</td>\n",
       "    </tr>\n",
       "    <tr>\n",
       "      <th>4</th>\n",
       "      <td>5.0</td>\n",
       "      <td>3.6</td>\n",
       "      <td>1.4</td>\n",
       "      <td>0.2</td>\n",
       "      <td>Setosa</td>\n",
       "    </tr>\n",
       "  </tbody>\n",
       "</table>\n",
       "</div>"
      ],
      "text/plain": [
       "   sepal.length  sepal.width  petal.length  petal.width variety\n",
       "0           5.1          3.5           1.4          0.2  Setosa\n",
       "1           4.9          3.0           1.4          0.2  Setosa\n",
       "2           4.7          3.2           1.3          0.2  Setosa\n",
       "3           4.6          3.1           1.5          0.2  Setosa\n",
       "4           5.0          3.6           1.4          0.2  Setosa"
      ]
     },
     "execution_count": 3,
     "metadata": {},
     "output_type": "execute_result"
    }
   ],
   "source": [
    "iris.head()"
   ]
  },
  {
   "cell_type": "markdown",
   "metadata": {},
   "source": [
    "wether we have NUN"
   ]
  },
  {
   "cell_type": "code",
   "execution_count": 5,
   "metadata": {},
   "outputs": [
    {
     "name": "stdout",
     "output_type": "stream",
     "text": [
      "     sepal.length  sepal.width  petal.length  petal.width    variety\n",
      "0             5.1          3.5           1.4          0.2     Setosa\n",
      "1             4.9          3.0           1.4          0.2     Setosa\n",
      "2             4.7          3.2           1.3          0.2     Setosa\n",
      "3             4.6          3.1           1.5          0.2     Setosa\n",
      "4             5.0          3.6           1.4          0.2     Setosa\n",
      "..            ...          ...           ...          ...        ...\n",
      "145           6.7          3.0           5.2          2.3  Virginica\n",
      "146           6.3          2.5           5.0          1.9  Virginica\n",
      "147           6.5          3.0           5.2          2.0  Virginica\n",
      "148           6.2          3.4           5.4          2.3  Virginica\n",
      "149           5.9          3.0           5.1          1.8  Virginica\n",
      "\n",
      "[150 rows x 5 columns]\n",
      "     sepal.length  sepal.width  petal.length  petal.width    variety\n",
      "0             5.1          3.5           1.4          0.2     Setosa\n",
      "1             4.9          3.0           1.4          0.2     Setosa\n",
      "2             4.7          3.2           1.3          0.2     Setosa\n",
      "3             4.6          3.1           1.5          0.2     Setosa\n",
      "4             5.0          3.6           1.4          0.2     Setosa\n",
      "..            ...          ...           ...          ...        ...\n",
      "145           6.7          3.0           5.2          2.3  Virginica\n",
      "146           6.3          2.5           5.0          1.9  Virginica\n",
      "147           6.5          3.0           5.2          2.0  Virginica\n",
      "148           6.2          3.4           5.4          2.3  Virginica\n",
      "149           5.9          3.0           5.1          1.8  Virginica\n",
      "\n",
      "[150 rows x 5 columns]\n"
     ]
    }
   ],
   "source": [
    "iris['variety'].replace('', np.nan, inplace=True)\n",
    "print (iris)\n",
    "iris.dropna(subset=['variety'], inplace=True)\n",
    "print (iris)"
   ]
  },
  {
   "cell_type": "markdown",
   "metadata": {},
   "source": [
    "Data preparation"
   ]
  },
  {
   "cell_type": "code",
   "execution_count": 6,
   "metadata": {},
   "outputs": [
    {
     "data": {
      "text/plain": [
       "(150,)"
      ]
     },
     "execution_count": 6,
     "metadata": {},
     "output_type": "execute_result"
    }
   ],
   "source": [
    "irisArray = iris.drop(['variety'], axis=1).values\n",
    "irisArray.shape\n",
    "IrisN = np.array([0, 0, 0, 0, 0, 0, 0, 0, 0, 0, 0, 0, 0, 0, 0, 0, 0, 0, 0, 0, 0, 0,\n",
    "        0, 0, 0, 0, 0, 0, 0, 0, 0, 0, 0, 0, 0, 0, 0, 0, 0, 0, 0, 0, 0, 0,\n",
    "        0, 0, 0, 0, 0, 0, 1, 1, 1, 1, 1, 1, 1, 1, 1, 1, 1, 1, 1, 1, 1, 1,\n",
    "        1, 1, 1, 1, 1, 1, 1, 1, 1, 1, 1, 1, 1, 1, 1, 1, 1, 1, 1, 1, 1, 1,\n",
    "        1, 1, 1, 1, 1, 1, 1, 1, 1, 1, 1, 1, 2, 2, 2, 2, 2, 2, 2, 2, 2, 2,\n",
    "        2, 2, 2, 2, 2, 2, 2, 2, 2, 2, 2, 2, 2, 2, 2, 2, 2, 2, 2, 2, 2, 2,\n",
    "        2, 2, 2, 2, 2, 2, 2, 2, 2, 2, 2, 2, 2, 2, 2, 2, 2, 2])\n",
    "IrisN.shape"
   ]
  },
  {
   "cell_type": "markdown",
   "metadata": {},
   "source": [
    "Training and testing the model"
   ]
  },
  {
   "cell_type": "code",
   "execution_count": 7,
   "metadata": {},
   "outputs": [
    {
     "name": "stdout",
     "output_type": "stream",
     "text": [
      "Test accuracy: 0.97\n"
     ]
    }
   ],
   "source": [
    "X_train, X_test, y_train, y_test = train_test_split(irisArray, IrisN, random_state=0)\n",
    "knn = KNeighborsClassifier(n_neighbors=1)\n",
    "knn.fit(X_train, y_train)\n",
    "print('Test accuracy: {:.2f}'.format(knn.score(X_test, y_test)))"
   ]
  },
  {
   "cell_type": "markdown",
   "metadata": {},
   "source": [
    "Making predictions"
   ]
  },
  {
   "cell_type": "code",
   "execution_count": 10,
   "metadata": {},
   "outputs": [
    {
     "name": "stdout",
     "output_type": "stream",
     "text": [
      "Test predictions:[2 1 0 0 0 0 0 0 1 0 0 0 0 0]\n",
      "virginica\n",
      "versicolor\n",
      "setosa\n",
      "setosa\n",
      "setosa\n",
      "setosa\n",
      "setosa\n",
      "setosa\n",
      "versicolor\n",
      "setosa\n",
      "setosa\n",
      "setosa\n",
      "setosa\n",
      "setosa\n"
     ]
    }
   ],
   "source": [
    "classes = {0:'setosa',1:'versicolor',2:'virginica'}\n",
    "X_new = [[3,4,5,2],\n",
    "         [5,3,2,2],\n",
    "         [4,1,2,1],\n",
    "         [8,6,2,1],\n",
    "         [3,2,1.5,2],\n",
    "         [2,4,2,1],\n",
    "         [4,4,2.4,1],\n",
    "         [5,4,2,2],\n",
    "         [6,1,2,3],\n",
    "         [3,4,1.9,2],\n",
    "         [2,4,2,1],\n",
    "         [3,4,1.8,1],\n",
    "         [3,3,2,2],\n",
    "         [5,4,2,1]]\n",
    "        \n",
    "\n",
    "\n",
    "y_predict = knn.predict(X_new)\n",
    "print('Test predictions:{}'.format(y_predict))\n",
    "print(classes[y_predict[0]])\n",
    "print(classes[y_predict[1]])\n",
    "print(classes[y_predict[2]])\n",
    "print(classes[y_predict[3]])\n",
    "print(classes[y_predict[4]])\n",
    "print(classes[y_predict[5]])\n",
    "print(classes[y_predict[6]])\n",
    "print(classes[y_predict[7]])\n",
    "print(classes[y_predict[8]])\n",
    "print(classes[y_predict[9]])\n",
    "print(classes[y_predict[10]])\n",
    "print(classes[y_predict[11]])\n",
    "print(classes[y_predict[12]])\n",
    "print(classes[y_predict[13]])"
   ]
  },
  {
   "cell_type": "markdown",
   "metadata": {},
   "source": [
    "Regression"
   ]
  },
  {
   "cell_type": "code",
   "execution_count": 11,
   "metadata": {},
   "outputs": [],
   "source": [
    "import numpy as np\n",
    "import pandas as pd\n",
    "import matplotlib.pyplot as plt\n",
    "from sklearn.linear_model import LinearRegression \n",
    "from sklearn.preprocessing import LabelEncoder "
   ]
  },
  {
   "cell_type": "code",
   "execution_count": 12,
   "metadata": {},
   "outputs": [],
   "source": [
    "S = [54.78, 60.29, 80.78, 70.49, 95.69, 49.28, 56.67, 60.44, 72.67, 85.32, 93.22, 50.36, 62.34, 70.98, 82.12, 98.98]\n",
    "City = ['Odesa', 'Odesa','Odesa','Odesa','Odesa','Kyiv','Kyiv','Kyiv','Kyiv','Kyiv','Kyiv','Mykolaiv','Mykolaiv','Mykolaiv','Mykolaiv','Mykolaiv']\n",
    "Price = [42800, 51300, 66650, 59100, 99490, 48324, 50300, 60100, 68900, 77567, 89340, 38400, 48678, 58450, 61900, 96890]"
   ]
  },
  {
   "cell_type": "code",
   "execution_count": 13,
   "metadata": {},
   "outputs": [
    {
     "name": "stdout",
     "output_type": "stream",
     "text": [
      "        S  City  Price\n",
      "0   54.78     2  42800\n",
      "1   60.29     2  51300\n",
      "2   80.78     2  66650\n",
      "3   70.49     2  59100\n",
      "4   95.69     2  99490\n",
      "5   49.28     0  48324\n",
      "6   56.67     0  50300\n",
      "7   60.44     0  60100\n",
      "8   72.67     0  68900\n",
      "9   85.32     0  77567\n",
      "10  93.22     0  89340\n",
      "11  50.36     1  38400\n",
      "12  62.34     1  48678\n",
      "13  70.98     1  58450\n",
      "14  82.12     1  61900\n",
      "15  98.98     1  96890\n"
     ]
    }
   ],
   "source": [
    "df = pd.DataFrame({'S':S, 'City':City,'Price':Price})\n",
    "label = LabelEncoder()\n",
    "number_city = df[df.columns[1:2]].apply(label.fit_transform)\n",
    "df.City = number_city\n",
    "print(df)"
   ]
  },
  {
   "cell_type": "code",
   "execution_count": 14,
   "metadata": {},
   "outputs": [
    {
     "name": "stdout",
     "output_type": "stream",
     "text": [
      "        S  City  Price\n",
      "6   56.67     0  50300\n",
      "14  82.12     1  61900\n",
      "8   72.67     0  68900\n",
      "13  70.98     1  58450\n",
      "15  98.98     1  96890\n",
      "4   95.69     2  99490\n",
      "5   49.28     0  48324\n",
      "10  93.22     0  89340\n",
      "12  62.34     1  48678\n",
      "2   80.78     2  66650\n",
      "3   70.49     2  59100\n",
      "1   60.29     2  51300\n",
      "11  50.36     1  38400\n",
      "0   54.78     2  42800\n",
      "7   60.44     0  60100\n",
      "9   85.32     0  77567\n"
     ]
    }
   ],
   "source": [
    "new_df = df.sample(frac=1)\n",
    "print(new_df)"
   ]
  },
  {
   "cell_type": "markdown",
   "metadata": {},
   "source": [
    "y=a+bx1+cx2"
   ]
  },
  {
   "cell_type": "code",
   "execution_count": 15,
   "metadata": {},
   "outputs": [
    {
     "name": "stdout",
     "output_type": "stream",
     "text": [
      "Predictions: [[46821.64447488]\n",
      " [38613.2550884 ]\n",
      " [40505.79657346]\n",
      " [53341.36597549]\n",
      " [81860.11294234]]\n",
      "Real:     Price\n",
      "1   51300\n",
      "11  38400\n",
      "0   42800\n",
      "7   60100\n",
      "9   77567\n"
     ]
    }
   ],
   "source": [
    "cut = int(0.7*len(df))\n",
    "train_data = new_df.iloc[:cut,:]\n",
    "test_data = new_df.iloc[cut:,:]\n",
    "trainX = train_data[train_data.columns[:2]]\n",
    "trainY = train_data[train_data.columns[2:]]\n",
    "testX = test_data[test_data.columns[:2]]\n",
    "testY = test_data[test_data.columns[2:]]\n",
    "model = LinearRegression(fit_intercept = True, normalize = True)\n",
    "reg = model.fit(trainX, trainY)\n",
    "pred_y = reg.predict(testX)\n",
    "print(\"Predictions:\", pred_y)\n",
    "print(\"Real:\", testY)"
   ]
  },
  {
   "cell_type": "code",
   "execution_count": 16,
   "metadata": {},
   "outputs": [
    {
     "name": "stdout",
     "output_type": "stream",
     "text": [
      "[[ 1146.25188774 -3173.89185873]]\n",
      "[-15938.09811921]\n"
     ]
    }
   ],
   "source": [
    "print(reg.coef_)\n",
    "print(reg.intercept_)"
   ]
  }
 ],
 "metadata": {
  "interpreter": {
   "hash": "941c21b796b6c797b5851963dca9db868d63415de05ec53dd944d1ff3c7e1546"
  },
  "kernelspec": {
   "display_name": "Python 3.8.3 64-bit ('base': conda)",
   "name": "python3"
  },
  "language_info": {
   "codemirror_mode": {
    "name": "ipython",
    "version": 3
   },
   "file_extension": ".py",
   "mimetype": "text/x-python",
   "name": "python",
   "nbconvert_exporter": "python",
   "pygments_lexer": "ipython3",
   "version": "3.8.3"
  },
  "orig_nbformat": 4
 },
 "nbformat": 4,
 "nbformat_minor": 2
}
