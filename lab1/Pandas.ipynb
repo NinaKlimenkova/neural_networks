{
 "cells": [
  {
   "cell_type": "code",
   "execution_count": 1,
   "metadata": {},
   "outputs": [],
   "source": [
    "import pandas as pd"
   ]
  },
  {
   "cell_type": "markdown",
   "metadata": {},
   "source": [
    "Method #1"
   ]
  },
  {
   "cell_type": "markdown",
   "metadata": {},
   "source": [
    "Data"
   ]
  },
  {
   "cell_type": "code",
   "execution_count": 2,
   "metadata": {},
   "outputs": [],
   "source": [
    "S = [54.78, 60.29, 80.78, 70.49, 95.69, 49.28, 56.67, 60.44, 72.67, 85.32, 93.22, 50.36, 62.34, 70.98, 82.12, 98.98]\n",
    "Price = [42800, 51300, 66650, 59100, 99490, 48324, 50300, 60100, 68900, 77567, 89340, 38400, 48678, 58450, 61900, 96890] \n",
    "City = ['Odesa', 'Odesa','Odesa','Odesa','Odesa','Kyiv','Kyiv','Kyiv','Kyiv','Kyiv','Kyiv','Mykolaiv','Mykolaiv','Mykolaiv','Mykolaiv','Mykolaiv']"
   ]
  },
  {
   "cell_type": "code",
   "execution_count": 3,
   "metadata": {},
   "outputs": [
    {
     "name": "stdout",
     "output_type": "stream",
     "text": [
      "        S  Price      City\n",
      "0   54.78  42800     Odesa\n",
      "1   60.29  51300     Odesa\n",
      "2   80.78  66650     Odesa\n",
      "3   70.49  59100     Odesa\n",
      "4   95.69  99490     Odesa\n",
      "5   49.28  48324      Kyiv\n",
      "6   56.67  50300      Kyiv\n",
      "7   60.44  60100      Kyiv\n",
      "8   72.67  68900      Kyiv\n",
      "9   85.32  77567      Kyiv\n",
      "10  93.22  89340      Kyiv\n",
      "11  50.36  38400  Mykolaiv\n",
      "12  62.34  48678  Mykolaiv\n",
      "13  70.98  58450  Mykolaiv\n",
      "14  82.12  61900  Mykolaiv\n",
      "15  98.98  96890  Mykolaiv\n"
     ]
    }
   ],
   "source": [
    "data_frame = pd.DataFrame({'S':S, 'Price':Price, 'City':City})\n",
    "print(data_frame)"
   ]
  },
  {
   "cell_type": "markdown",
   "metadata": {},
   "source": [
    "Method #2"
   ]
  },
  {
   "cell_type": "code",
   "execution_count": 21,
   "metadata": {},
   "outputs": [
    {
     "name": "stdout",
     "output_type": "stream",
     "text": [
      "    square  price      city\n",
      "Od   54.78  42800     Odesa\n",
      "K    60.29  51300      Kyiv\n",
      "M    80.78  66650  Mykolaiv\n",
      "L    70.49  59100      Lviv\n",
      "              square  price      city\n",
      "Country Code                         \n",
      "Od             54.78  42800     Odesa\n",
      "K              60.29  51300      Kyiv\n",
      "M              80.78  66650  Mykolaiv\n",
      "L              70.49  59100      Lviv\n"
     ]
    }
   ],
   "source": [
    "df = pd.DataFrame({\n",
    "     'square': [54.78, 60.29, 80.78, 70.49],\n",
    "     'price': [42800, 51300, 66650, 59100],\n",
    "     'city': ['Odesa', 'Kyiv','Mykolaiv','Lviv']\n",
    "}, index=['Od', 'K', 'M', 'L'])\n",
    "print(df)\n",
    "df.index.name = 'Country Code'\n",
    "print(df)"
   ]
  },
  {
   "cell_type": "code",
   "execution_count": 34,
   "metadata": {},
   "outputs": [
    {
     "name": "stdout",
     "output_type": "stream",
     "text": [
      "Head of 2\n",
      "               square  price      city       density\n",
      "Country Code                                       \n",
      "Od             54.78  42800     Odesa  7.813070e+08\n",
      "K              60.29  51300      Kyiv  8.508874e+08\n",
      "M              80.78  66650  Mykolaiv  8.250805e+08\n",
      "\n",
      "Describe\n",
      "           square         price       density\n",
      "count   4.000000      4.000000  4.000000e+00\n",
      "mean   66.585000  54962.500000  8.239229e+08\n",
      "std    11.485238  10247.875796  3.030185e+07\n",
      "min    54.780000  42800.000000  7.813070e+08\n",
      "25%    58.912500  49175.000000  8.141371e+08\n",
      "50%    65.390000  55200.000000  8.317486e+08\n",
      "75%    73.062500  60987.500000  8.415344e+08\n",
      "max    80.780000  66650.000000  8.508874e+08\n",
      "\n",
      "Loc from 'Od' to 'M' is\n",
      "               square  price      city       density\n",
      "Country Code                                       \n",
      "Od             54.78  42800     Odesa  7.813070e+08\n",
      "K              60.29  51300      Kyiv  8.508874e+08\n",
      "M              80.78  66650  Mykolaiv  8.250805e+08\n",
      "\n",
      "Iloc of '4' is\n",
      " square           70.49\n",
      "price            59100\n",
      "city              Lviv\n",
      "density    8.38417e+08\n",
      "Name: L, dtype: object\n"
     ]
    }
   ],
   "source": [
    "#Head\n",
    "print(\"Head of 2\\n\",df.head(3))\n",
    "#Describe\n",
    "print(\"\\nDescribe\\n\",df.describe())\n",
    "#loc\n",
    "print(\"\\nLoc from 'Od' to 'M' is\\n\",df.loc['Od':'M', :])\n",
    "#Iloc\n",
    "print(\"\\nIloc of '4' is\\n\",df.iloc[3])\n",
    "\n",
    "\n"
   ]
  },
  {
   "cell_type": "code",
   "execution_count": 27,
   "metadata": {},
   "outputs": [
    {
     "name": "stdout",
     "output_type": "stream",
     "text": [
      "              square  price      city       density\n",
      "Country Code                                       \n",
      "Od             54.78  42800     Odesa  7.813070e+08\n",
      "K              60.29  51300      Kyiv  8.508874e+08\n",
      "M              80.78  66650  Mykolaiv  8.250805e+08\n",
      "L              70.49  59100      Lviv  8.384168e+08\n",
      "              square  price      city       density\n",
      "Country Code                                       \n",
      "Od             54.78  42800     Odesa  7.813070e+08\n",
      "K              60.29  51300      Kyiv  8.508874e+08\n",
      "M              80.78  66650  Mykolaiv  8.250805e+08\n",
      "L              70.49  59100      Lviv  8.384168e+08\n"
     ]
    },
    {
     "data": {
      "text/html": [
       "<div>\n",
       "<style scoped>\n",
       "    .dataframe tbody tr th:only-of-type {\n",
       "        vertical-align: middle;\n",
       "    }\n",
       "\n",
       "    .dataframe tbody tr th {\n",
       "        vertical-align: top;\n",
       "    }\n",
       "\n",
       "    .dataframe thead th {\n",
       "        text-align: right;\n",
       "    }\n",
       "</style>\n",
       "<table border=\"1\" class=\"dataframe\">\n",
       "  <thead>\n",
       "    <tr style=\"text-align: right;\">\n",
       "      <th></th>\n",
       "      <th>square</th>\n",
       "      <th>price</th>\n",
       "      <th>city</th>\n",
       "    </tr>\n",
       "    <tr>\n",
       "      <th>Country Code</th>\n",
       "      <th></th>\n",
       "      <th></th>\n",
       "      <th></th>\n",
       "    </tr>\n",
       "  </thead>\n",
       "  <tbody>\n",
       "    <tr>\n",
       "      <th>Od</th>\n",
       "      <td>54.78</td>\n",
       "      <td>42800</td>\n",
       "      <td>Odesa</td>\n",
       "    </tr>\n",
       "    <tr>\n",
       "      <th>K</th>\n",
       "      <td>60.29</td>\n",
       "      <td>51300</td>\n",
       "      <td>Kyiv</td>\n",
       "    </tr>\n",
       "    <tr>\n",
       "      <th>M</th>\n",
       "      <td>80.78</td>\n",
       "      <td>66650</td>\n",
       "      <td>Mykolaiv</td>\n",
       "    </tr>\n",
       "    <tr>\n",
       "      <th>L</th>\n",
       "      <td>70.49</td>\n",
       "      <td>59100</td>\n",
       "      <td>Lviv</td>\n",
       "    </tr>\n",
       "  </tbody>\n",
       "</table>\n",
       "</div>"
      ],
      "text/plain": [
       "              square  price      city\n",
       "Country Code                         \n",
       "Od             54.78  42800     Odesa\n",
       "K              60.29  51300      Kyiv\n",
       "M              80.78  66650  Mykolaiv\n",
       "L              70.49  59100      Lviv"
      ]
     },
     "execution_count": 27,
     "metadata": {},
     "output_type": "execute_result"
    }
   ],
   "source": [
    "#operations with columns\n",
    "df['density'] = df['price'] / df['square'] * 1000000\n",
    "print(df)\n",
    "#delate index\n",
    "df.reset_index()\n",
    "print(df)\n",
    "#delate column\n",
    "df.drop(['density'], axis='columns')\n",
    "\n"
   ]
  },
  {
   "cell_type": "code",
   "execution_count": 33,
   "metadata": {},
   "outputs": [
    {
     "name": "stdout",
     "output_type": "stream",
     "text": [
      "               S         Price\n",
      "City                          \n",
      "Kyiv      69.600  65755.166667\n",
      "Mykolaiv  72.956  60863.600000\n",
      "Odesa     72.406  63868.000000\n"
     ]
    }
   ],
   "source": [
    "#group\n",
    "group_city = data_frame.groupby(['City']).mean()\n",
    "print(group_city)"
   ]
  }
 ],
 "metadata": {
  "interpreter": {
   "hash": "941c21b796b6c797b5851963dca9db868d63415de05ec53dd944d1ff3c7e1546"
  },
  "kernelspec": {
   "display_name": "Python 3.8.3 64-bit ('base': conda)",
   "name": "python3"
  },
  "language_info": {
   "codemirror_mode": {
    "name": "ipython",
    "version": 3
   },
   "file_extension": ".py",
   "mimetype": "text/x-python",
   "name": "python",
   "nbconvert_exporter": "python",
   "pygments_lexer": "ipython3",
   "version": "3.8.3"
  },
  "orig_nbformat": 4
 },
 "nbformat": 4,
 "nbformat_minor": 2
}
