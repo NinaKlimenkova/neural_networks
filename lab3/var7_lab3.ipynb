{
 "cells": [
  {
   "cell_type": "markdown",
   "metadata": {},
   "source": [
    "# Лабораторна робота №2\n",
    "## Тема: Tensorflow\n",
    "### Завдання\n",
    "1. На основі документу вирішити завдання класифікації для набору даних Fashion MNIST.\n",
    "2. Для моделювання використати 3 класи індекси яких взяти відповідно до номеру у списку групи у наведеній нижче таблиці.\n",
    "3. Моделювання провести із використанням нейронної мережі (Flatten & Dense layers).\n",
    "4. Здійснити вибір оптимального кроку градієнтного алгоритму (learning_rate), а також побудову Confusion Matrix.\n",
    "5. Результати оформити у вигляді файлу з кодом для моделювання та візуалізації у форматі .ipynb\n",
    "6. Результати викласти у репозиторії GitHub (папка Lab3).\n",
    "7. Підготуватися до захисту лабораторрної роботи (пояснення коду, відповіді на запитання за темою)"
   ]
  },
  {
   "cell_type": "markdown",
   "metadata": {},
   "source": [
    "## Виконала\n",
    "### студентка 4 курсу\n",
    "### групи АнД-41\n",
    "### Кліменкова Ніна\n",
    "### Варіант 7"
   ]
  },
  {
   "cell_type": "markdown",
   "metadata": {},
   "source": [
    "## Бібліотеки"
   ]
  },
  {
   "cell_type": "code",
   "execution_count": 2,
   "metadata": {},
   "outputs": [],
   "source": [
    "import tensorflow as tf\n",
    "from tensorflow.keras.datasets import fashion_mnist\n",
    "from tensorflow import keras\n",
    "from tensorflow.keras import layers\n",
    "from tensorflow.keras.models import Sequential\n",
    "from tensorflow.keras.layers import Dense, Flatten, Conv2D\n",
    "from tensorflow.keras.losses import mae, mse\n",
    "from tensorflow.keras.optimizers import SGD, Adam\n",
    "import matplotlib.pyplot as plt\n",
    "import pandas as pd\n",
    "import numpy as np"
   ]
  },
  {
   "cell_type": "markdown",
   "metadata": {},
   "source": [
    "## Формуємо дані"
   ]
  },
  {
   "cell_type": "code",
   "execution_count": 3,
   "metadata": {},
   "outputs": [
    {
     "name": "stdout",
     "output_type": "stream",
     "text": [
      "Downloading data from https://storage.googleapis.com/tensorflow/tf-keras-datasets/train-labels-idx1-ubyte.gz\n",
      "32768/29515 [=================================] - 0s 2us/step\n",
      "40960/29515 [=========================================] - 0s 2us/step\n",
      "Downloading data from https://storage.googleapis.com/tensorflow/tf-keras-datasets/train-images-idx3-ubyte.gz\n",
      "26427392/26421880 [==============================] - 69s 3us/step\n",
      "26435584/26421880 [==============================] - 69s 3us/step\n",
      "Downloading data from https://storage.googleapis.com/tensorflow/tf-keras-datasets/t10k-labels-idx1-ubyte.gz\n",
      "16384/5148 [===============================================================================================] - 0s 0us/step\n",
      "Downloading data from https://storage.googleapis.com/tensorflow/tf-keras-datasets/t10k-images-idx3-ubyte.gz\n",
      "4423680/4422102 [==============================] - 11s 2us/step\n",
      "4431872/4422102 [==============================] - 11s 2us/step\n"
     ]
    }
   ],
   "source": [
    "(train_data, train_labels), (test_data, test_labels) = fashion_mnist.load_data()"
   ]
  },
  {
   "cell_type": "code",
   "execution_count": 4,
   "metadata": {},
   "outputs": [
    {
     "name": "stdout",
     "output_type": "stream",
     "text": [
      "Training sample:\n",
      "[[  0   0   0   0   0   0   0   0   0   0   0   0   0   0   0   0   0   0\n",
      "    0   0   0   0   0   0   0   0   0   0]\n",
      " [  0   0   0   0   0   0   0   0   0   0   0   0   0   0   0   0   0   0\n",
      "    0   0   0   0   0   0   0   0   0   0]\n",
      " [  0   0   0   0   0   0   0   0   0   0   0   0   0   0   0   0   0   0\n",
      "    0   0   0   0   0   0   0   0   0   0]\n",
      " [  0   0   0   0   0   0   0   0   0   0   0   0   1   0   0  13  73   0\n",
      "    0   1   4   0   0   0   0   1   1   0]\n",
      " [  0   0   0   0   0   0   0   0   0   0   0   0   3   0  36 136 127  62\n",
      "   54   0   0   0   1   3   4   0   0   3]\n",
      " [  0   0   0   0   0   0   0   0   0   0   0   0   6   0 102 204 176 134\n",
      "  144 123  23   0   0   0   0  12  10   0]\n",
      " [  0   0   0   0   0   0   0   0   0   0   0   0   0   0 155 236 207 178\n",
      "  107 156 161 109  64  23  77 130  72  15]\n",
      " [  0   0   0   0   0   0   0   0   0   0   0   1   0  69 207 223 218 216\n",
      "  216 163 127 121 122 146 141  88 172  66]\n",
      " [  0   0   0   0   0   0   0   0   0   1   1   1   0 200 232 232 233 229\n",
      "  223 223 215 213 164 127 123 196 229   0]\n",
      " [  0   0   0   0   0   0   0   0   0   0   0   0   0 183 225 216 223 228\n",
      "  235 227 224 222 224 221 223 245 173   0]\n",
      " [  0   0   0   0   0   0   0   0   0   0   0   0   0 193 228 218 213 198\n",
      "  180 212 210 211 213 223 220 243 202   0]\n",
      " [  0   0   0   0   0   0   0   0   0   1   3   0  12 219 220 212 218 192\n",
      "  169 227 208 218 224 212 226 197 209  52]\n",
      " [  0   0   0   0   0   0   0   0   0   0   6   0  99 244 222 220 218 203\n",
      "  198 221 215 213 222 220 245 119 167  56]\n",
      " [  0   0   0   0   0   0   0   0   0   4   0   0  55 236 228 230 228 240\n",
      "  232 213 218 223 234 217 217 209  92   0]\n",
      " [  0   0   1   4   6   7   2   0   0   0   0   0 237 226 217 223 222 219\n",
      "  222 221 216 223 229 215 218 255  77   0]\n",
      " [  0   3   0   0   0   0   0   0   0  62 145 204 228 207 213 221 218 208\n",
      "  211 218 224 223 219 215 224 244 159   0]\n",
      " [  0   0   0   0  18  44  82 107 189 228 220 222 217 226 200 205 211 230\n",
      "  224 234 176 188 250 248 233 238 215   0]\n",
      " [  0  57 187 208 224 221 224 208 204 214 208 209 200 159 245 193 206 223\n",
      "  255 255 221 234 221 211 220 232 246   0]\n",
      " [  3 202 228 224 221 211 211 214 205 205 205 220 240  80 150 255 229 221\n",
      "  188 154 191 210 204 209 222 228 225   0]\n",
      " [ 98 233 198 210 222 229 229 234 249 220 194 215 217 241  65  73 106 117\n",
      "  168 219 221 215 217 223 223 224 229  29]\n",
      " [ 75 204 212 204 193 205 211 225 216 185 197 206 198 213 240 195 227 245\n",
      "  239 223 218 212 209 222 220 221 230  67]\n",
      " [ 48 203 183 194 213 197 185 190 194 192 202 214 219 221 220 236 225 216\n",
      "  199 206 186 181 177 172 181 205 206 115]\n",
      " [  0 122 219 193 179 171 183 196 204 210 213 207 211 210 200 196 194 191\n",
      "  195 191 198 192 176 156 167 177 210  92]\n",
      " [  0   0  74 189 212 191 175 172 175 181 185 188 189 188 193 198 204 209\n",
      "  210 210 211 188 188 194 192 216 170   0]\n",
      " [  2   0   0   0  66 200 222 237 239 242 246 243 244 221 220 193 191 179\n",
      "  182 182 181 176 166 168  99  58   0   0]\n",
      " [  0   0   0   0   0   0   0  40  61  44  72  41  35   0   0   0   0   0\n",
      "    0   0   0   0   0   0   0   0   0   0]\n",
      " [  0   0   0   0   0   0   0   0   0   0   0   0   0   0   0   0   0   0\n",
      "    0   0   0   0   0   0   0   0   0   0]\n",
      " [  0   0   0   0   0   0   0   0   0   0   0   0   0   0   0   0   0   0\n",
      "    0   0   0   0   0   0   0   0   0   0]]\n",
      "\n",
      "Training label: 9\n"
     ]
    }
   ],
   "source": [
    "print(f\"Training sample:\\n{train_data[0]}\\n\") \n",
    "print(f\"Training label: {train_labels[0]}\")"
   ]
  },
  {
   "cell_type": "code",
   "execution_count": 6,
   "metadata": {},
   "outputs": [
    {
     "data": {
      "text/plain": [
       "((60000, 28, 28), (60000,), (10000, 28, 28), (10000,))"
      ]
     },
     "execution_count": 6,
     "metadata": {},
     "output_type": "execute_result"
    }
   ],
   "source": [
    "# Check the shape of our data\n",
    "train_data.shape, train_labels.shape, test_data.shape, test_labels.shape"
   ]
  },
  {
   "cell_type": "code",
   "execution_count": 7,
   "metadata": {},
   "outputs": [
    {
     "data": {
      "text/plain": [
       "((28, 28), ())"
      ]
     },
     "execution_count": 7,
     "metadata": {},
     "output_type": "execute_result"
    }
   ],
   "source": [
    "# Check shape of a single example\n",
    "train_data[0].shape, train_labels[0].shape"
   ]
  },
  {
   "cell_type": "markdown",
   "metadata": {},
   "source": [
    "Okay, 60,000 training examples each with shape (28, 28) and a label each as well as 10,000 test examples of shape (28, 28)."
   ]
  },
  {
   "cell_type": "code",
   "execution_count": 11,
   "metadata": {},
   "outputs": [
    {
     "data": {
      "image/png": "[encoded data removed]",
      "text/plain": [
       "<Figure size 432x288 with 1 Axes>"
      ]
     },
     "metadata": {
      "needs_background": "light"
     },
     "output_type": "display_data"
    }
   ],
   "source": [
    "# Plot a single example\n",
    "plt.imshow(train_data[5]);"
   ]
  },
  {
   "cell_type": "code",
   "execution_count": 12,
   "metadata": {},
   "outputs": [
    {
     "data": {
      "text/plain": [
       "2"
      ]
     },
     "execution_count": 12,
     "metadata": {},
     "output_type": "execute_result"
    }
   ],
   "source": [
    "train_labels[5]"
   ]
  },
  {
   "cell_type": "code",
   "execution_count": 15,
   "metadata": {},
   "outputs": [
    {
     "data": {
      "image/png": "[encoded data removed]",
      "text/plain": [
       "<Figure size 432x288 with 1 Axes>"
      ]
     },
     "metadata": {
      "needs_background": "light"
     },
     "output_type": "display_data"
    }
   ],
   "source": [
    "class_names = ['T-shirt/top', 'Trouser', 'Pullover', 'Dress', 'Coat', \n",
    "               'Sandal', 'Shirt', 'Sneaker', 'Bag', 'Ankle boot']\n",
    "\n",
    "# How many classes are there (this'll be our output shape)?\n",
    "len(class_names)\n",
    "plt.imshow(train_data[15], cmap=plt.cm.binary) # change the colours to black & white\n",
    "plt.title(class_names[train_labels[15]]);"
   ]
  },
  {
   "cell_type": "markdown",
   "metadata": {},
   "source": [
    "## Формуємо класи"
   ]
  },
  {
   "cell_type": "code",
   "execution_count": 17,
   "metadata": {},
   "outputs": [],
   "source": [
    "my_classes = [6, 9, 3]\n",
    "train_index = np.where(np.in1d(train_labels, my_classes))\n",
    "test_index = np.where(np.in1d(test_labels, my_classes))"
   ]
  },
  {
   "cell_type": "code",
   "execution_count": 21,
   "metadata": {},
   "outputs": [
    {
     "name": "stdout",
     "output_type": "stream",
     "text": [
      "x_train.shape:  (18000, 28, 28)\n",
      "y_train.shape:  (18000,)\n",
      "x_test.shape:  (3000, 28, 28)\n",
      "y_test.shape:  (3000,)\n"
     ]
    }
   ],
   "source": [
    "x_train = train_data[train_index]\n",
    "y_train = train_labels[train_index]\n",
    "x_test = test_data[test_index]\n",
    "y_test = test_labels[test_index]\n",
    "print( \"x_train.shape: \",x_train.shape)\n",
    "print( \"y_train.shape: \",y_train.shape)\n",
    "print( \"x_test.shape: \",x_test.shape)\n",
    "print( \"y_test.shape: \",y_test.shape)"
   ]
  },
  {
   "cell_type": "code",
   "execution_count": 20,
   "metadata": {},
   "outputs": [
    {
     "name": "stdout",
     "output_type": "stream",
     "text": [
      "18000\n",
      "[[[  0   0   0 ...   0   0   0]\n",
      "  [  0   0   0 ...   0   0   0]\n",
      "  [  0   0   0 ...   0   0   0]\n",
      "  ...\n",
      "  [  0   0   0 ...   0   0   0]\n",
      "  [  0   0   0 ...   0   0   0]\n",
      "  [  0   0   0 ...   0   0   0]]\n",
      "\n",
      " [[  0   0   0 ...   0   0   0]\n",
      "  [  0   0   0 ...   0   0   0]\n",
      "  [  0   0   0 ...   0   0   0]\n",
      "  ...\n",
      "  [  0   0   0 ...   0   0   0]\n",
      "  [  0   0   0 ...   0   0   0]\n",
      "  [  0   0   0 ...   0   0   0]]\n",
      "\n",
      " [[  0   0   0 ...   0   0   0]\n",
      "  [  0   0   0 ...   3   0   0]\n",
      "  [  0   0   0 ...   9   0   0]\n",
      "  ...\n",
      "  [  0   9 188 ...   7   0   0]\n",
      "  [  0   0   0 ...   4   0   0]\n",
      "  [  0   0   0 ...   0   0   0]]\n",
      "\n",
      " ...\n",
      "\n",
      " [[  0   0   0 ...   0   0   0]\n",
      "  [  0   0   0 ...   0   0   0]\n",
      "  [  0   0   0 ...   3   0   0]\n",
      "  ...\n",
      "  [  0   0   0 ...   0   0   0]\n",
      "  [  0   0   0 ...   0   0   0]\n",
      "  [  0   0   0 ...   0   0   0]]\n",
      "\n",
      " [[  0   0   0 ...   0   0   0]\n",
      "  [  0   0   0 ...   0   0   0]\n",
      "  [  0   0   0 ...   0   0   0]\n",
      "  ...\n",
      "  [  0   0   0 ...   0   0   0]\n",
      "  [  0   0   0 ...   0   0   0]\n",
      "  [  0   0   0 ...   0   0   0]]\n",
      "\n",
      " [[  0   0   0 ...   0   0   0]\n",
      "  [  0   0   0 ...   0   0   0]\n",
      "  [  0   0   0 ...   0   0   0]\n",
      "  ...\n",
      "  [  0   0   0 ...   0   0   0]\n",
      "  [  0   0   0 ...   0   0   0]\n",
      "  [  0   0   0 ...   0   0   0]]]\n"
     ]
    }
   ],
   "source": [
    "print(len(x_train))\n",
    "print(x_train)"
   ]
  },
  {
   "cell_type": "code",
   "execution_count": 22,
   "metadata": {},
   "outputs": [
    {
     "data": {
      "image/png": "[encoded data removed]",
      "text/plain": [
       "<Figure size 720x720 with 6 Axes>"
      ]
     },
     "metadata": {},
     "output_type": "display_data"
    }
   ],
   "source": [
    "#картинки\n",
    "plt.figure(figsize=(10,10))\n",
    "for p in range(6):\n",
    "    plt.subplot(5,2,p+1)\n",
    "    plt.xticks([])\n",
    "    plt.yticks([])\n",
    "    plt.grid('off')\n",
    "    plt.imshow(train_data[p], cmap=plt.cm.binary)\n",
    "    plt.xlabel(class_names[y_train[p]], color='black')"
   ]
  },
  {
   "cell_type": "markdown",
   "metadata": {},
   "source": [
    "## Модель"
   ]
  },
  {
   "cell_type": "code",
   "execution_count": 31,
   "metadata": {},
   "outputs": [],
   "source": [
    "model_1 = Sequential([\n",
    "    Flatten(input_shape=(28,28)), \n",
    "    Dense(100 , activation='softmax'),\n",
    "    Dense(10, activation='softmax')\n",
    "])\n",
    "\n",
    "model_1.compile(\n",
    "    loss = 'sparse_categorical_crossentropy',\n",
    "    optimizer = Adam(learning_rate=0.01), \n",
    "    metrics=['accuracy']\n",
    ")\n"
   ]
  },
  {
   "cell_type": "code",
   "execution_count": 32,
   "metadata": {},
   "outputs": [
    {
     "name": "stdout",
     "output_type": "stream",
     "text": [
      "Epoch 1/10\n",
      "36/36 [==============================] - 0s 6ms/step - loss: 1.7470 - accuracy: 0.7983 - val_loss: 1.3302 - val_accuracy: 0.8883\n",
      "Epoch 2/10\n",
      "36/36 [==============================] - 0s 4ms/step - loss: 1.0673 - accuracy: 0.8921 - val_loss: 0.8388 - val_accuracy: 0.9097\n",
      "Epoch 3/10\n",
      "36/36 [==============================] - 0s 4ms/step - loss: 0.7296 - accuracy: 0.8989 - val_loss: 0.5736 - val_accuracy: 0.9257\n",
      "Epoch 4/10\n",
      "36/36 [==============================] - 0s 3ms/step - loss: 0.5775 - accuracy: 0.8803 - val_loss: 0.5313 - val_accuracy: 0.8973\n",
      "Epoch 5/10\n",
      "36/36 [==============================] - 0s 4ms/step - loss: 0.4768 - accuracy: 0.9045 - val_loss: 0.4348 - val_accuracy: 0.9080\n",
      "Epoch 6/10\n",
      "36/36 [==============================] - 0s 4ms/step - loss: 0.3776 - accuracy: 0.9265 - val_loss: 0.4080 - val_accuracy: 0.8957\n",
      "Epoch 7/10\n",
      "36/36 [==============================] - 0s 4ms/step - loss: 0.3575 - accuracy: 0.9163 - val_loss: 0.5859 - val_accuracy: 0.7860\n",
      "Epoch 8/10\n",
      "36/36 [==============================] - 0s 4ms/step - loss: 0.6267 - accuracy: 0.6915 - val_loss: 0.5855 - val_accuracy: 0.6700\n",
      "Epoch 9/10\n",
      "36/36 [==============================] - 0s 4ms/step - loss: 0.5250 - accuracy: 0.6899 - val_loss: 0.4326 - val_accuracy: 0.8200\n",
      "Epoch 10/10\n",
      "36/36 [==============================] - 0s 4ms/step - loss: 0.3350 - accuracy: 0.9016 - val_loss: 0.3035 - val_accuracy: 0.9150\n"
     ]
    }
   ],
   "source": [
    "history = model_1.fit(\n",
    "    x_train,y_train, \n",
    "    epochs = 10, \n",
    "    validation_data=(x_test,y_test), \n",
    "    batch_size = 512\n",
    ")"
   ]
  },
  {
   "cell_type": "code",
   "execution_count": 33,
   "metadata": {},
   "outputs": [
    {
     "name": "stdout",
     "output_type": "stream",
     "text": [
      "Model: \"sequential_6\"\n",
      "_________________________________________________________________\n",
      "Layer (type)                 Output Shape              Param #   \n",
      "=================================================================\n",
      "flatten_6 (Flatten)          (None, 784)               0         \n",
      "_________________________________________________________________\n",
      "dense_12 (Dense)             (None, 100)               78500     \n",
      "_________________________________________________________________\n",
      "dense_13 (Dense)             (None, 10)                1010      \n",
      "=================================================================\n",
      "Total params: 79,510\n",
      "Trainable params: 79,510\n",
      "Non-trainable params: 0\n",
      "_________________________________________________________________\n"
     ]
    }
   ],
   "source": [
    "model_1.summary()"
   ]
  },
  {
   "cell_type": "code",
   "execution_count": 34,
   "metadata": {},
   "outputs": [
    {
     "name": "stdout",
     "output_type": "stream",
     "text": [
      "94/94 [==============================] - 0s 1ms/step - loss: 0.3035 - accuracy: 0.9150\n",
      "Test accuracy :  0.9150000214576721\n"
     ]
    }
   ],
   "source": [
    "test_loss, test_acc = model_1.evaluate(x_test,y_test)\n",
    "print('Test accuracy : ', test_acc)"
   ]
  },
  {
   "cell_type": "markdown",
   "metadata": {},
   "source": [
    "## Перевірка"
   ]
  },
  {
   "cell_type": "code",
   "execution_count": 59,
   "metadata": {},
   "outputs": [],
   "source": [
    "predictions = model_1.predict(x_test)\n"
   ]
  },
  {
   "cell_type": "code",
   "execution_count": 36,
   "metadata": {},
   "outputs": [
    {
     "data": {
      "text/plain": [
       "9"
      ]
     },
     "execution_count": 36,
     "metadata": {},
     "output_type": "execute_result"
    }
   ],
   "source": [
    "np.argmax(predictions[0])"
   ]
  },
  {
   "cell_type": "code",
   "execution_count": 37,
   "metadata": {},
   "outputs": [
    {
     "data": {
      "text/plain": [
       "9"
      ]
     },
     "execution_count": 37,
     "metadata": {},
     "output_type": "execute_result"
    }
   ],
   "source": [
    "test_labels[0]"
   ]
  },
  {
   "cell_type": "code",
   "execution_count": 40,
   "metadata": {},
   "outputs": [
    {
     "data": {
      "image/png": "[encoded data removed]",
      "text/plain": [
       "<Figure size 720x720 with 15 Axes>"
      ]
     },
     "metadata": {},
     "output_type": "display_data"
    }
   ],
   "source": [
    "plt.figure(figsize=(10,10))\n",
    "for i in range(15):\n",
    "    plt.subplot(5,5,i+1)\n",
    "    plt.xticks([])\n",
    "    plt.yticks([])\n",
    "    plt.grid('off')\n",
    "    plt.imshow(x_test[i], cmap=plt.cm.binary)\n",
    "    predicted_label = np.argmax(predictions[i])\n",
    "    true_label = y_test[i]\n",
    "    if (predicted_label == true_label):\n",
    "        color = 'white'\n",
    "    else :\n",
    "        color = 'red'\n",
    "    plt.xlabel(\"{} ({})\".format(class_names[predicted_label], class_names[true_label]), color = color)"
   ]
  },
  {
   "cell_type": "markdown",
   "metadata": {},
   "source": [
    "## Залежність точності від швидкості навчання"
   ]
  },
  {
   "cell_type": "code",
   "execution_count": 43,
   "metadata": {},
   "outputs": [
    {
     "data": {
      "image/png": "[encoded data removed]",
      "text/plain": [
       "<Figure size 432x288 with 1 Axes>"
      ]
     },
     "metadata": {
      "needs_background": "light"
     },
     "output_type": "display_data"
    }
   ],
   "source": [
    "plt.plot(history.history['accuracy'])\n",
    "plt.title('accuracy of model_1')\n",
    "plt.ylabel('accuracy')\n",
    "plt.xlabel('epoch')\n",
    "plt.legend(['train', 'test'], loc='upper left')\n",
    "plt.show()"
   ]
  },
  {
   "cell_type": "markdown",
   "metadata": {},
   "source": [
    "## loss"
   ]
  },
  {
   "cell_type": "code",
   "execution_count": 44,
   "metadata": {},
   "outputs": [
    {
     "data": {
      "image/png": "[encoded data removed]",
      "text/plain": [
       "<Figure size 432x288 with 1 Axes>"
      ]
     },
     "metadata": {
      "needs_background": "light"
     },
     "output_type": "display_data"
    }
   ],
   "source": [
    "plt.plot(history.history['val_loss'])\n",
    "plt.title('loss of the model_1')\n",
    "plt.ylabel('loss')\n",
    "plt.xlabel('epoch')\n",
    "plt.legend(['train', 'test'], loc='upper left')\n",
    "plt.show()"
   ]
  },
  {
   "cell_type": "markdown",
   "metadata": {},
   "source": [
    "## learning rate = 0.0001"
   ]
  },
  {
   "cell_type": "code",
   "execution_count": 45,
   "metadata": {},
   "outputs": [],
   "source": [
    "model_2 = Sequential([\n",
    "    Flatten(input_shape=(28,28)), \n",
    "    Dense(100 , activation='relu'),\n",
    "    Dense(10, activation='softmax')\n",
    "])\n",
    "\n",
    "model_2.compile(\n",
    "    loss = 'sparse_categorical_crossentropy',\n",
    "    optimizer = Adam(learning_rate=0.0001), \n",
    "    metrics=['accuracy']\n",
    ")"
   ]
  },
  {
   "cell_type": "code",
   "execution_count": 46,
   "metadata": {},
   "outputs": [
    {
     "name": "stdout",
     "output_type": "stream",
     "text": [
      "Epoch 1/20\n",
      "36/36 [==============================] - 0s 6ms/step - loss: 105.9139 - accuracy: 0.4186 - val_loss: 6.8036 - val_accuracy: 0.8733\n",
      "Epoch 2/20\n",
      "36/36 [==============================] - 0s 3ms/step - loss: 4.7878 - accuracy: 0.8998 - val_loss: 4.9540 - val_accuracy: 0.9083\n",
      "Epoch 3/20\n",
      "36/36 [==============================] - 0s 4ms/step - loss: 3.6534 - accuracy: 0.9142 - val_loss: 4.1752 - val_accuracy: 0.9107\n",
      "Epoch 4/20\n",
      "36/36 [==============================] - 0s 3ms/step - loss: 3.0891 - accuracy: 0.9199 - val_loss: 3.7025 - val_accuracy: 0.9110\n",
      "Epoch 5/20\n",
      "36/36 [==============================] - 0s 3ms/step - loss: 2.7177 - accuracy: 0.9241 - val_loss: 3.3636 - val_accuracy: 0.9160\n",
      "Epoch 6/20\n",
      "36/36 [==============================] - 0s 3ms/step - loss: 2.4703 - accuracy: 0.9268 - val_loss: 3.1114 - val_accuracy: 0.9200\n",
      "Epoch 7/20\n",
      "36/36 [==============================] - 0s 3ms/step - loss: 2.2340 - accuracy: 0.9326 - val_loss: 2.8964 - val_accuracy: 0.9220\n",
      "Epoch 8/20\n",
      "36/36 [==============================] - 0s 4ms/step - loss: 2.0613 - accuracy: 0.9344 - val_loss: 2.6608 - val_accuracy: 0.9267\n",
      "Epoch 9/20\n",
      "36/36 [==============================] - 0s 3ms/step - loss: 1.9021 - accuracy: 0.9392 - val_loss: 2.5044 - val_accuracy: 0.9273\n",
      "Epoch 10/20\n",
      "36/36 [==============================] - 0s 3ms/step - loss: 1.7758 - accuracy: 0.9399 - val_loss: 2.3725 - val_accuracy: 0.9303\n",
      "Epoch 11/20\n",
      "36/36 [==============================] - 0s 3ms/step - loss: 1.6894 - accuracy: 0.9421 - val_loss: 2.2832 - val_accuracy: 0.9307\n",
      "Epoch 12/20\n",
      "36/36 [==============================] - 0s 3ms/step - loss: 1.5878 - accuracy: 0.9428 - val_loss: 2.1756 - val_accuracy: 0.9343\n",
      "Epoch 13/20\n",
      "36/36 [==============================] - 0s 4ms/step - loss: 1.4866 - accuracy: 0.9444 - val_loss: 2.0935 - val_accuracy: 0.9370\n",
      "Epoch 14/20\n",
      "36/36 [==============================] - 0s 4ms/step - loss: 1.4076 - accuracy: 0.9461 - val_loss: 2.0152 - val_accuracy: 0.9380\n",
      "Epoch 15/20\n",
      "36/36 [==============================] - 0s 4ms/step - loss: 1.3259 - accuracy: 0.9481 - val_loss: 1.9738 - val_accuracy: 0.9380\n",
      "Epoch 16/20\n",
      "36/36 [==============================] - 0s 3ms/step - loss: 1.2598 - accuracy: 0.9504 - val_loss: 1.9215 - val_accuracy: 0.9397\n",
      "Epoch 17/20\n",
      "36/36 [==============================] - 0s 3ms/step - loss: 1.2140 - accuracy: 0.9498 - val_loss: 1.8902 - val_accuracy: 0.9400\n",
      "Epoch 18/20\n",
      "36/36 [==============================] - 0s 3ms/step - loss: 1.1590 - accuracy: 0.9526 - val_loss: 1.8323 - val_accuracy: 0.9407\n",
      "Epoch 19/20\n",
      "36/36 [==============================] - 0s 3ms/step - loss: 1.1027 - accuracy: 0.9522 - val_loss: 1.7655 - val_accuracy: 0.9410\n",
      "Epoch 20/20\n",
      "36/36 [==============================] - 0s 3ms/step - loss: 1.0694 - accuracy: 0.9536 - val_loss: 1.7790 - val_accuracy: 0.9420\n"
     ]
    }
   ],
   "source": [
    "history_2 = model_2.fit(\n",
    "    x_train,y_train, \n",
    "    epochs = 20, \n",
    "    validation_data=(x_test,y_test), \n",
    "    batch_size = 512\n",
    ")"
   ]
  },
  {
   "cell_type": "code",
   "execution_count": 47,
   "metadata": {},
   "outputs": [
    {
     "name": "stdout",
     "output_type": "stream",
     "text": [
      "94/94 [==============================] - 0s 811us/step - loss: 1.7790 - accuracy: 0.9420\n",
      "Test accuracy :  0.9419999718666077\n"
     ]
    }
   ],
   "source": [
    "test_loss, test_acc = model_2.evaluate(x_test,y_test)\n",
    "print('Test accuracy : ', test_acc)"
   ]
  },
  {
   "cell_type": "code",
   "execution_count": 49,
   "metadata": {},
   "outputs": [
    {
     "data": {
      "image/png": "[encoded data removed]",
      "text/plain": [
       "<Figure size 432x288 with 1 Axes>"
      ]
     },
     "metadata": {
      "needs_background": "light"
     },
     "output_type": "display_data"
    }
   ],
   "source": [
    "plt.plot(history_2.history['accuracy'])\n",
    "plt.title('accuracy of model_2')\n",
    "plt.ylabel('accuracy')\n",
    "plt.xlabel('epoch')\n",
    "plt.legend(['train', 'test'], loc='upper left')\n",
    "plt.show()"
   ]
  },
  {
   "cell_type": "code",
   "execution_count": 51,
   "metadata": {},
   "outputs": [
    {
     "data": {
      "image/png": "[encoded data removed]",
      "text/plain": [
       "<Figure size 432x288 with 1 Axes>"
      ]
     },
     "metadata": {
      "needs_background": "light"
     },
     "output_type": "display_data"
    }
   ],
   "source": [
    "plt.plot(history_2.history['val_loss'])\n",
    "plt.title('loss of the model_2')\n",
    "plt.ylabel('loss')\n",
    "plt.xlabel('epoch')\n",
    "plt.legend(['train', 'test'], loc='upper left')\n",
    "plt.show()"
   ]
  },
  {
   "cell_type": "markdown",
   "metadata": {},
   "source": [
    "## Confusion Matrix"
   ]
  },
  {
   "cell_type": "code",
   "execution_count": 52,
   "metadata": {},
   "outputs": [],
   "source": [
    "from sklearn.metrics import confusion_matrix"
   ]
  },
  {
   "cell_type": "code",
   "execution_count": 58,
   "metadata": {},
   "outputs": [
    {
     "data": {
      "text/html": [
       "<div>\n",
       "<style scoped>\n",
       "    .dataframe tbody tr th:only-of-type {\n",
       "        vertical-align: middle;\n",
       "    }\n",
       "\n",
       "    .dataframe tbody tr th {\n",
       "        vertical-align: top;\n",
       "    }\n",
       "\n",
       "    .dataframe thead th {\n",
       "        text-align: right;\n",
       "    }\n",
       "</style>\n",
       "<table border=\"1\" class=\"dataframe\">\n",
       "  <thead>\n",
       "    <tr style=\"text-align: right;\">\n",
       "      <th></th>\n",
       "      <th>T-shirt/top</th>\n",
       "      <th>Shirt</th>\n",
       "      <th>Dress</th>\n",
       "    </tr>\n",
       "  </thead>\n",
       "  <tbody>\n",
       "    <tr>\n",
       "      <th>T-shirt/top</th>\n",
       "      <td>964</td>\n",
       "      <td>36</td>\n",
       "      <td>0</td>\n",
       "    </tr>\n",
       "    <tr>\n",
       "      <th>Shirt</th>\n",
       "      <td>209</td>\n",
       "      <td>791</td>\n",
       "      <td>0</td>\n",
       "    </tr>\n",
       "    <tr>\n",
       "      <th>Dress</th>\n",
       "      <td>8</td>\n",
       "      <td>2</td>\n",
       "      <td>990</td>\n",
       "    </tr>\n",
       "  </tbody>\n",
       "</table>\n",
       "</div>"
      ],
      "text/plain": [
       "             T-shirt/top  Shirt  Dress\n",
       "T-shirt/top          964     36      0\n",
       "Shirt                209    791      0\n",
       "Dress                  8      2    990"
      ]
     },
     "execution_count": 58,
     "metadata": {},
     "output_type": "execute_result"
    }
   ],
   "source": [
    "predyction_sampl = [np.argmax(i) for i in predictions]\n",
    "my_matrix = confusion_matrix(y_test,predyction_sampl)\n",
    "dataf_confusion = pd.DataFrame(my_matrix, columns=['T-shirt/top', 'Shirt', 'Dress'], index = ['T-shirt/top', 'Shirt', 'Dress'])\n",
    "dataf_confusion"
   ]
  },
  {
   "cell_type": "markdown",
   "metadata": {},
   "source": [
    "# Висновок\n",
    "## У ході виконання даної лабораторної роботи було побудовано декілька моделей за допомогою Flatten & Dense layers та дослідили як точність моделі залежить від швидкості навчання. Вирішили завдання класифікації для набору даних Fashion MNIST. Також побудували Confusion Matrix"
   ]
  }
 ],
 "metadata": {
  "interpreter": {
   "hash": "941c21b796b6c797b5851963dca9db868d63415de05ec53dd944d1ff3c7e1546"
  },
  "kernelspec": {
   "display_name": "Python 3.8.3 64-bit ('base': conda)",
   "name": "python3"
  },
  "language_info": {
   "codemirror_mode": {
    "name": "ipython",
    "version": 3
   },
   "file_extension": ".py",
   "mimetype": "text/x-python",
   "name": "python",
   "nbconvert_exporter": "python",
   "pygments_lexer": "ipython3",
   "version": "3.8.3"
  },
  "orig_nbformat": 4
 },
 "nbformat": 4,
 "nbformat_minor": 2
}
